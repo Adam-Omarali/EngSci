{
 "cells": [
  {
   "cell_type": "markdown",
   "metadata": {},
   "source": [
    "### Find the number of zeros in a given factorial"
   ]
  },
  {
   "cell_type": "code",
   "execution_count": 2,
   "metadata": {},
   "outputs": [
    {
     "data": {
      "text/plain": [
       "24"
      ]
     },
     "execution_count": 2,
     "metadata": {},
     "output_type": "execute_result"
    }
   ],
   "source": [
    "def factorial(n):\n",
    "    if(n == 1):\n",
    "        return 1\n",
    "    return factorial(n - 1) * n\n",
    "\n",
    "def findTraillingZeros(n):\n",
    "    count = 0\n",
    "    k = factorial(n)\n",
    "\n",
    "    while k % 10 == 0:\n",
    "        count += 1\n",
    "        k //= 10\n",
    "\n",
    "    return count\n",
    "\n",
    "findTraillingZeros(100)"
   ]
  },
  {
   "cell_type": "markdown",
   "metadata": {},
   "source": [
    "The previous aproach is slow because it will take the number of zeros we have to iterate.\n",
    "\n",
    "Rather we can right a factorial as $(10 * 10...) * (...) = = ((2 * 5) * (2 * 5)...) * (...)$\n",
    "\n",
    "And note that the number of fives will be the limiting factor, therefore, we just need to know the number of factors of 5\n",
    "\n",
    "therefore $n! // 5$ gives us the number of fives in the number, except we don't count 25 (2 fives), 125 (3 fives)"
   ]
  },
  {
   "cell_type": "code",
   "execution_count": 5,
   "metadata": {},
   "outputs": [
    {
     "name": "stdout",
     "output_type": "stream",
     "text": [
      "93326215443944152681699238856266700490715968264381621468592963895217599993229915608941463976156518286253697920827223758251185210916864000000000000000000000000\n",
      "23331553860986038170424809714066675122678992066095405367148240973804399998307478902235365994039129571563424480206805939562796302729215999999999999999999999901\n"
     ]
    }
   ],
   "source": [
    "def trailing_zeros(n):\n",
    "    res = 0\n",
    "    curr_term = n // 5\n",
    "    while curr_term > 0:\n",
    "        res += curr_term\n",
    "        curr_term //= 5\n",
    "\n",
    "    return res\n",
    "\n",
    "n = factorial(100)\n",
    "print(trailing_zeros(n))"
   ]
  },
  {
   "cell_type": "markdown",
   "metadata": {},
   "source": [
    "### Discover Pi"
   ]
  },
  {
   "cell_type": "code",
   "execution_count": 4,
   "metadata": {},
   "outputs": [
    {
     "name": "stdout",
     "output_type": "stream",
     "text": [
      "3.13596\n"
     ]
    }
   ],
   "source": [
    "import random\n",
    "\n",
    "random.random() #rand between 0 and 1\n",
    "\n",
    "#generate random coordinates, count how many are in the quarter circle\n",
    "\n",
    "def pi(n):\n",
    "    inside_count = 0\n",
    "\n",
    "    for i in range(n):\n",
    "        x, y = random.random(), random.random()\n",
    "        if (x**2 + y**2) < 1:\n",
    "            inside_count += 1\n",
    "    \n",
    "    return inside_count / n * 4\n",
    "\n",
    "print(pi(100000))\n"
   ]
  },
  {
   "cell_type": "markdown",
   "metadata": {},
   "source": [
    "area of a quarter circle = $\\frac{1}{4} * \\pi * r^2$ <br>\n",
    "area of rectangle around circle with left corner at circle center = 1 * 1 <br>\n",
    "ratio of areas = $\\frac{1}{4} * \\pi$"
   ]
  },
  {
   "cell_type": "markdown",
   "metadata": {},
   "source": [
    "# Missing K Problem\n",
    "Given a list of integers, the list has elements 1, 2, ... n. except that k is missing. find k effeciently.\n",
    "\n",
    "Ex -> [5, 1, 3, 4] -> 2 is missing"
   ]
  },
  {
   "cell_type": "code",
   "execution_count": null,
   "metadata": {},
   "outputs": [],
   "source": [
    "def missingK(L):\n",
    "    #[5, 1, 3, 4] -> has a length of 4, but goes up to 5, therefore, we need to look for numbers len(L) + 1\n",
    "    for i in range(1, len(L) + 2):\n",
    "        if i not in L:\n",
    "            return i"
   ]
  },
  {
   "cell_type": "code",
   "execution_count": null,
   "metadata": {},
   "outputs": [],
   "source": [
    "#int can store as many digits as you like\n",
    "\n",
    "def leibniz_pi10(n_digits):\n",
    "    factor = 4*10**(n_digits+1)\n",
    "    pi10 = 0\n",
    "    last_pi10 = -100\n",
    "    i = 0\n",
    "    while (abs(last_pi10-pi10) > 1):\n",
    "        last_pi10 = pi10\n",
    "        #need to do integer division, other python will not execute claiming that factor is too large to convert\n",
    "        #to a float\n",
    "        pi10 += (factor*((-1)**i))//(2*i+1)\n",
    "        i += 1\n",
    "        print(pi10)\n",
    "    \n",
    "    \n",
    "    return pi10\n",
    "\n",
    "def get_pi_digits(n_digits):\n",
    "    pi10 = leibniz_pi10(n_digits)\n",
    "    pi_digits = []\n",
    "    for i in range(n_digits+2):\n",
    "        pi_digits.append(int(pi10/10**i)%10)\n",
    "\n",
    "    return pi_digits\n",
    "\n",
    "\n",
    "def print_pi_digits(n_digits):\n",
    "    pi_digits = get_pi_digits(n_digits)\n",
    "    for i in range(len(pi_digits)-1, 1, -1):\n",
    "        print(pi_digits[i])\n",
    "\n",
    "\n",
    "print_pi_digits(600)"
   ]
  },
  {
   "cell_type": "markdown",
   "metadata": {},
   "source": [
    "# Dictionaries"
   ]
  },
  {
   "cell_type": "code",
   "execution_count": 5,
   "metadata": {},
   "outputs": [
    {
     "name": "stdout",
     "output_type": "stream",
     "text": [
      "{'adam': 'omarali'}\n",
      "esc101 94\n",
      "esc180 30\n",
      "True\n",
      "False\n"
     ]
    }
   ],
   "source": [
    "d = {\"adam\": \"o\",\n",
    "     \"adam\": \"omarali\"}\n",
    "\n",
    "print(d) #for two of the same keys, the latest value is used\n",
    "\n",
    "d = {\"esc101\": 94, \"esc180\": 30}\n",
    "for sub, mark in d.items():\n",
    "    print(sub, mark)\n",
    "\n",
    "#d.keys(), d.values()\n",
    "print(\"esc101\" in d) #checks keys only\n",
    "print(94 in d)"
   ]
  },
  {
   "cell_type": "code",
   "execution_count": 6,
   "metadata": {},
   "outputs": [
    {
     "name": "stdout",
     "output_type": "stream",
     "text": [
      "[5]\n"
     ]
    }
   ],
   "source": [
    "import inspect\n",
    "import copy\n",
    "\n",
    "#agrs is a dictionary\n",
    "def function_runner(func, args):\n",
    "    my_locals = locals()\n",
    "    for arg, val in args.items():\n",
    "        #store result in dictionary my_locals\n",
    "        exec(f\"{arg} = {val}\", my_locals)\n",
    "\n",
    "    backup_args = {}\n",
    "\n",
    "    for arg, val in args.items():\n",
    "        backup_args[arg] = val\n",
    "        #backup_args[arg] is alias of args[arg] since no deep copy of val\n",
    "\n",
    "    source = inspect.getsource(func)\n",
    "    lines = source.split('\\n')\n",
    "    for line in lines[1:]:\n",
    "        #the split[0] checks the left hand side of equals\n",
    "        #so can decieve by passing a = \"[tricky]\"\n",
    "        if('[' in line[4:].split(\"=\")[0]):\n",
    "            var_name = line[4:].split(\"=\")[0].split('[')[0]\n",
    "            for arg, val in args.items():\n",
    "                if id(my_locals[var_name]) == id(val):\n",
    "                    #need a deep copy of val\n",
    "                    args[arg] = copy.deepcopy(args[arg])\n",
    "\n",
    "        exec(line[4:], my_locals)\n",
    "\n",
    "    for arg, val in args.items():\n",
    "        #if args[arg] memory address changes, go back and restore\n",
    "        if(id(args[arg]) != id(backup_args)):\n",
    "            args[arg] = backup_args[arg]\n",
    "\n",
    "    print(my_locals['L'])\n",
    "\n",
    "def f(a):\n",
    "    b = 2*a\n",
    "    c = 123 + b\n",
    "\n",
    "def g(L):\n",
    "    L[0] = 5\n",
    "\n",
    "# function_runner(f, {\"a\": 5})\n",
    "function_runner(g, {'L': [15]})\n",
    "\n",
    "# def f(a, bc, d):\n",
    "#     a[0] = 3\n",
    "\n",
    "# lines = inspect.getsource(f).split(\"\\n\")\n",
    "# print(lines[0])\n",
    "# params = lines[0].split(\"(\")[1][:-2].split(', ')\n",
    "# print(params)"
   ]
  },
  {
   "cell_type": "code",
   "execution_count": 16,
   "metadata": {},
   "outputs": [
    {
     "name": "stdout",
     "output_type": "stream",
     "text": [
      "Correct\n",
      "Incorrect, game over\n",
      "Game is Over\n",
      "Game is Over\n",
      "Game is Over\n"
     ]
    }
   ],
   "source": [
    "def check_next_prime(n):\n",
    "    global incorrect\n",
    "    is_prime=True\n",
    "\n",
    "    for i in range(2, int(n**0.5) + 1):\n",
    "        if n % i == 0:\n",
    "            is_prime = False\n",
    "            break\n",
    "        \n",
    "    if not incorrect:\n",
    "        if is_prime:\n",
    "            print(\"Correct\")\n",
    "        else:\n",
    "            incorrect = True\n",
    "            print(\"Incorrect, game over\")\n",
    "\n",
    "    else:\n",
    "        print(\"Game is Over\")\n",
    "\n",
    "\n",
    "incorrect = False\n",
    "check_next_prime(2)\n",
    "check_next_prime(39)\n",
    "check_next_prime(5)\n",
    "check_next_prime(5)\n",
    "check_next_prime(7)"
   ]
  },
  {
   "cell_type": "markdown",
   "metadata": {},
   "source": [
    "$f(n) = O(g(n)) \\newline f(n) \\propto g(n) \\newline \\lim_{n\\to\\infty} \\frac{f(n)}{g(n)} = const$ \n",
    "\n",
    "This definition falls apart if $f(n) = sin(n)$ and $g(n) = cos(n)$\n",
    "\n",
    "The real definition is:\n",
    "$\\lim_{n\\to\\infty} lub(\\frac{f(n)}{g(n)}) = const$"
   ]
  },
  {
   "cell_type": "markdown",
   "metadata": {},
   "source": [
    "## Sparse Structures"
   ]
  },
  {
   "cell_type": "code",
   "execution_count": 9,
   "metadata": {},
   "outputs": [
    {
     "data": {
      "text/plain": [
       "5"
      ]
     },
     "execution_count": 9,
     "metadata": {},
     "output_type": "execute_result"
    }
   ],
   "source": [
    "M = [[0, 0, 0],[0, 5, 0],[0, 0, 0]]\n",
    "\n",
    "#we can represent this with a dictionary containing the coordinates of the unique element, \n",
    "#and a touple of the matrix size\n",
    "\n",
    "M_sparse = {(1, 1) : 5}\n",
    "M_size = (2, 2)\n",
    "\n",
    "M_sparse.get((1, 1), 3) #get the value at key (1, 1), if that key doesn't exist, give me 3\n",
    "#returns 5, M_sparse.get((1, 2), 3) would return 3"
   ]
  },
  {
   "cell_type": "code",
   "execution_count": 10,
   "metadata": {},
   "outputs": [
    {
     "data": {
      "text/plain": [
       "['hello my', 'name is adam']"
      ]
     },
     "execution_count": 10,
     "metadata": {},
     "output_type": "execute_result"
    }
   ],
   "source": [
    "d = {\"i\":{\"b\":3}}\n",
    "temp = d.get(\"i\", 0)\n",
    "if temp != 0:\n",
    "    temp = temp.get(\"b\", 0)\n",
    "\n",
    "temp\n",
    "\n",
    "d[\"c\"] = {}\n",
    "d\n",
    "\n",
    "t = \"hello my. name is adam\"\n",
    "t.split(\". \")"
   ]
  },
  {
   "cell_type": "code",
   "execution_count": null,
   "metadata": {},
   "outputs": [],
   "source": [
    "M_sparse2 = {(0, 0): 10}\n",
    "\n",
    "def add_sparse_matrices(M1, M2):\n",
    "    sum = {}\n",
    "    for coords in M1:\n",
    "        sum[coords] = M_sparse.get(coords, 0) + M_sparse2.get(coords, 0)\n",
    "    \n",
    "    for coords in M2:\n",
    "        sum[coords] = M_sparse.get(coords, 0) + M_sparse2.get(coords, 0)\n",
    "\n",
    "    return sum"
   ]
  },
  {
   "cell_type": "markdown",
   "metadata": {},
   "source": [
    "## Vector Comparison of Close Together\n",
    "\n",
    "### Euclidian Distance\n",
    "- How close are the two tips to each other\n",
    "$\\sqrt{(v1_1 + v2_1)^2 + (v1_2 + v2_2)^2}$\n",
    "\n",
    "The problem with this is its dependent on the magnitude of the vectors. For example, in word prediction,\n",
    "canine and dog are very similar, but canine may have a much smaller magnitude than dog because it appears less.\n",
    "\n",
    "### Cosine Similarity\n",
    "Angle between two vectors\n",
    "$\\cos \\theta = \\frac{v1 \\cdot v2}{|v1| |v2|}$\n",
    "\n",
    "### Embeddings\n",
    "Take objects and placing them in some n-dimensional space. Making a set of discrete things connected through a dimensional space. Works better with more data.\n",
    "\n",
    "Like Man and Woman are similar to King and Queen, they are parallel vectors ($v_{king} = (v_{man} - v_{woman})$)\n",
    "\n",
    "### Words Embeddings\n",
    "Most words will appear as one offs while few appear consistently. Therefore, using sparse structure is benefitial."
   ]
  },
  {
   "cell_type": "code",
   "execution_count": null,
   "metadata": {},
   "outputs": [],
   "source": [
    "#Count sort\n",
    "#make a list up to max of L\n",
    "#store number of time each value up to L occurs\n",
    "#construct a new list by repeating those elements by they're occurence\n",
    "\n",
    "\n",
    "#Bubble sort\n",
    "def bubble(L):\n",
    "    for j in range(len(L)):\n",
    "        swapped = False\n",
    "        for i in range(len(L) - j - 1):\n",
    "            if (L[i + 1] < L[i]):\n",
    "                L[i], L[i + 1] = L[i + 1], L[i]\n",
    "                swapped = True\n",
    "        if not swapped:\n",
    "            return\n",
    "        \n",
    "#Complexity\n",
    "#[len(L) - 1 + len(L) - 2 + len(L) - 3 + ... + len(L) - len(L)]\n",
    "#[1 + 2 + 3 +...+ len(L) - 1]\n",
    "# n(n-1) / 2 = len(L)(len(L) - 1) / 2 => len(L)^2"
   ]
  },
  {
   "cell_type": "code",
   "execution_count": null,
   "metadata": {},
   "outputs": [],
   "source": [
    "def is_sorted(L):\n",
    "    for i in range(L):\n",
    "        if L[i] > L[i + 1]:\n",
    "            return False\n",
    "        \n",
    "    return True\n",
    "\n",
    "def rand_int(n):\n",
    "    return int(n*random.random())\n",
    "\n",
    "def bogo_sort(L):\n",
    "    while True:\n",
    "        if is_sorted(L):\n",
    "            return True\n",
    "        i, j = rand_int(len(L)), rand_int(len(L))\n",
    "        L[i], L[j] = L[j] = L[i]\n",
    "\n",
    "#Runtime\n",
    "#Worst case, infinite loop since i and j are always the same\n",
    "\n",
    "#Assuming reasonable random: we will cycle through every possible permutation of the list until finding\n",
    "#the sorted version\n",
    "#Therefore go through n! permutations, with each permutation needing to run is_sorted(), which is O(n)\n",
    "#Therefor time complexity is approx O(n! * n)\n",
    "\n",
    "\n",
    "#Bucket sort\n",
    "#O(n log n) time complexity"
   ]
  },
  {
   "cell_type": "markdown",
   "metadata": {},
   "source": [
    "### Recursion"
   ]
  },
  {
   "cell_type": "code",
   "execution_count": 13,
   "metadata": {},
   "outputs": [],
   "source": [
    "#recursive step: print the reverse of L[1:] then print the first element\n",
    "def print_rev(L):\n",
    "    if len(L) == 1:\n",
    "        print(L[0])\n",
    "        return\n",
    "    \n",
    "    print_rev(L[1:])\n",
    "    print(L[0])\n",
    "\n",
    "def power_while_rec(a, n, res, i):\n",
    "    if i == n:\n",
    "        return res\n",
    "    \n",
    "    return power_while_rec(a, n, res*a, i+1) #will return the same thing all the way down the code tree (always returns res from the base case)\n",
    "\n",
    "\n",
    "def fast_pow(x, n):\n",
    "    if n == 0:\n",
    "        return 1\n",
    "    if n == 1:\n",
    "        return x\n",
    "    #if n is odd\n",
    "    if n % 2 == 1:\n",
    "        return fast_pow(x, n//2) ** 2 * x\n",
    "    #if n is even, multiply by 1\n",
    "    else:\n",
    "        return fast_pow(x, n//2) ** 2\n",
    "\n",
    "#time complexity log2(n)\n",
    "\n",
    "\n",
    "def fast_pow_2(x, n):\n",
    "    if n == 0:\n",
    "        return 1\n",
    "    if n == 1:\n",
    "        return x\n",
    "    #if n is odd\n",
    "    if n % 2 == 1:\n",
    "        return fast_pow_2(x, n//2) * fast_pow_2(x, n//2) * x\n",
    "    #if n is even, multiply by 1\n",
    "    else:\n",
    "        return fast_pow_2(x, n//2) * fast_pow_2(x, n//2)\n",
    "\n",
    "\n",
    "\n",
    "#...\n",
    "#n/4 n/4    n/4 n/4 (4 = 2^2)\n",
    "#n / 2      n/2 (2 = 2^1)\n",
    "#n (1  = 2^0)\n",
    "\n",
    "#Time complexity is 2^0 + 2^1 + 2^2 +...+ 2^k = sum of geometric series = (1 - r^(m+1)) / (1-r) where r = 2, m = k\n",
    "\n",
    "\n",
    "#2^m = 2^(m-1) + 2^(m-1)\n",
    "def power2(n):\n",
    "    if (n ==  0):\n",
    "        return 1\n",
    "    if n == 1:\n",
    "        return 2\n",
    "    \n",
    "    return power2(n - 1) + power2(n - 1)\n",
    "\n",
    "#Time complexity 2^0 + 2^1 + 2^2...2^k where k = n\n",
    "#Therefore O(2^n)"
   ]
  },
  {
   "cell_type": "code",
   "execution_count": 14,
   "metadata": {},
   "outputs": [
    {
     "data": {
      "text/plain": [
       "16"
      ]
     },
     "execution_count": 14,
     "metadata": {},
     "output_type": "execute_result"
    }
   ],
   "source": [
    "fast_pow(2, 4)\n",
    "power2(4)"
   ]
  },
  {
   "cell_type": "code",
   "execution_count": null,
   "metadata": {},
   "outputs": [],
   "source": []
  }
 ],
 "metadata": {
  "kernelspec": {
   "display_name": "tensorflow",
   "language": "python",
   "name": "python3"
  },
  "language_info": {
   "codemirror_mode": {
    "name": "ipython",
    "version": 3
   },
   "file_extension": ".py",
   "mimetype": "text/x-python",
   "name": "python",
   "nbconvert_exporter": "python",
   "pygments_lexer": "ipython3",
   "version": "3.8.3"
  },
  "orig_nbformat": 4
 },
 "nbformat": 4,
 "nbformat_minor": 2
}
