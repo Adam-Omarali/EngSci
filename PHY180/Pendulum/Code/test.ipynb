{
 "cells": [
  {
   "cell_type": "code",
   "execution_count": 2,
   "metadata": {},
   "outputs": [],
   "source": [
    "import pandas as pd\n",
    "\n",
    "df = pd.read_csv(\"./data/17.6.csv\")\n",
    "df.drop(columns=[\"Unnamed: 2\"], inplace=True)"
   ]
  },
  {
   "cell_type": "code",
   "execution_count": 3,
   "metadata": {},
   "outputs": [],
   "source": [
    "#fix columns\n",
    "df = df.rename(columns={df.columns[0] : df.iloc[0][0], df.columns[1] : 'theta'})\n",
    "df = df.drop(0)"
   ]
  },
  {
   "cell_type": "code",
   "execution_count": 4,
   "metadata": {},
   "outputs": [],
   "source": [
    "#convert columns to float and make them positive\n",
    "df.iloc[:, 1] = df.iloc[:, 1].astype(float) * -1"
   ]
  },
  {
   "cell_type": "code",
   "execution_count": 23,
   "metadata": {},
   "outputs": [
    {
     "data": {
      "text/plain": [
       "1       82.60\n",
       "2       82.65\n",
       "3       83.19\n",
       "4       83.87\n",
       "5       84.48\n",
       "        ...  \n",
       "2510    90.36\n",
       "2511    90.25\n",
       "2512    90.16\n",
       "2513    90.01\n",
       "2514    89.90\n",
       "Name: theta, Length: 2514, dtype: float64"
      ]
     },
     "execution_count": 23,
     "metadata": {},
     "output_type": "execute_result"
    }
   ],
   "source": [
    "df.iloc[:, 1].astype(float)"
   ]
  },
  {
   "cell_type": "code",
   "execution_count": 21,
   "metadata": {},
   "outputs": [
    {
     "data": {
      "text/plain": [
       "'0.000'"
      ]
     },
     "execution_count": 21,
     "metadata": {},
     "output_type": "execute_result"
    }
   ],
   "source": [
    "df[\"t\"].iloc[0]"
   ]
  },
  {
   "cell_type": "code",
   "execution_count": 1,
   "metadata": {},
   "outputs": [
    {
     "ename": "NameError",
     "evalue": "name 'df' is not defined",
     "output_type": "error",
     "traceback": [
      "\u001b[0;31m---------------------------------------------------------------------------\u001b[0m",
      "\u001b[0;31mNameError\u001b[0m                                 Traceback (most recent call last)",
      "\u001b[0;32m<ipython-input-1-046b5fc9aad9>\u001b[0m in \u001b[0;36m<module>\u001b[0;34m\u001b[0m\n\u001b[1;32m      5\u001b[0m \u001b[0;34m\u001b[0m\u001b[0m\n\u001b[1;32m      6\u001b[0m \u001b[0;31m#count oscillations, record amplitudes\u001b[0m\u001b[0;34m\u001b[0m\u001b[0;34m\u001b[0m\u001b[0;34m\u001b[0m\u001b[0m\n\u001b[0;32m----> 7\u001b[0;31m \u001b[0mprev\u001b[0m \u001b[0;34m=\u001b[0m \u001b[0;34m(\u001b[0m\u001b[0mdf\u001b[0m\u001b[0;34m.\u001b[0m\u001b[0miloc\u001b[0m\u001b[0;34m[\u001b[0m\u001b[0;36m0\u001b[0m\u001b[0;34m]\u001b[0m\u001b[0;34m[\u001b[0m\u001b[0;36m1\u001b[0m\u001b[0;34m]\u001b[0m\u001b[0;34m)\u001b[0m \u001b[0;31m#prev\u001b[0m\u001b[0;34m\u001b[0m\u001b[0;34m\u001b[0m\u001b[0m\n\u001b[0m\u001b[1;32m      8\u001b[0m \u001b[0mframe_rate\u001b[0m \u001b[0;34m=\u001b[0m \u001b[0mdf\u001b[0m\u001b[0;34m.\u001b[0m\u001b[0miloc\u001b[0m\u001b[0;34m[\u001b[0m\u001b[0;36m1\u001b[0m\u001b[0;34m]\u001b[0m\u001b[0;34m[\u001b[0m\u001b[0;36m0\u001b[0m\u001b[0;34m]\u001b[0m \u001b[0;34m-\u001b[0m \u001b[0mdf\u001b[0m\u001b[0;34m.\u001b[0m\u001b[0miloc\u001b[0m\u001b[0;34m[\u001b[0m\u001b[0;36m0\u001b[0m\u001b[0;34m]\u001b[0m\u001b[0;34m[\u001b[0m\u001b[0;36m0\u001b[0m\u001b[0;34m]\u001b[0m\u001b[0;34m\u001b[0m\u001b[0;34m\u001b[0m\u001b[0m\n\u001b[1;32m      9\u001b[0m \u001b[0mextreme\u001b[0m \u001b[0;34m=\u001b[0m \u001b[0mdf\u001b[0m\u001b[0;34m.\u001b[0m\u001b[0miloc\u001b[0m\u001b[0;34m[\u001b[0m\u001b[0;36m0\u001b[0m\u001b[0;34m]\u001b[0m\u001b[0;34m[\u001b[0m\u001b[0;36m1\u001b[0m\u001b[0;34m]\u001b[0m \u001b[0;31m#assumes first value is maximum height\u001b[0m\u001b[0;34m\u001b[0m\u001b[0;34m\u001b[0m\u001b[0m\n",
      "\u001b[0;31mNameError\u001b[0m: name 'df' is not defined"
     ]
    }
   ],
   "source": [
    "ANGLE_THRESHOLD = 5\n",
    "COUNT_THRESHOLD = 20\n",
    "\n",
    "#count periods\n",
    "\n",
    "\n",
    "def get_amplitudes(df):\n",
    "    #count oscillations, record amplitudes\n",
    "    prev = (df.iloc[0][1]) #prev\n",
    "    frame_rate = df.iloc[1][0] - df.iloc[0][0]\n",
    "    extreme = df.iloc[0][1] #assumes first value is maximum height\n",
    "    increasing = True\n",
    "    oscillations = []\n",
    "    amplitudes = []\n",
    "    count = 0\n",
    "\n",
    "    for row in range(1, df.size):\n",
    "        theta = (df.iloc[row][1])\n",
    "        time = df.iloc[row][0]\n",
    "        if count > COUNT_THRESHOLD:\n",
    "            #check if theta is within threshold of curr max\n",
    "            if theta - prev > 0:\n",
    "                increasing = True\n",
    "                #now increasing\n",
    "                if not increasing:\n",
    "                    #previously decreasing\n",
    "                    oscillations.append(time)\n",
    "                    amplitudes.append(abs(extreme - theta))\n",
    "                # else:\n",
    "                #     #if swapped to increasing, but is still increasing somehow\n",
    "                #     oscillations[-1] += frame_rate\n",
    "                #     amplitudes[-1] += abs(prev - theta)\n",
    "            else:\n",
    "                increasing = False\n",
    "                # now decreasing\n",
    "                if increasing:\n",
    "                    oscillations.append(time)\n",
    "                    amplitudes.append(abs(extreme - theta))\n",
    "\n",
    "                \n",
    "                \n",
    "\n",
    "            prev = theta\n",
    "            return {\"oscillations\": oscillations, \"amplitudes\": amplitudes}\n",
    "\n",
    "    "
   ]
  },
  {
   "cell_type": "code",
   "execution_count": null,
   "metadata": {},
   "outputs": [],
   "source": []
  }
 ],
 "metadata": {
  "kernelspec": {
   "display_name": "tensorflow",
   "language": "python",
   "name": "python3"
  },
  "language_info": {
   "codemirror_mode": {
    "name": "ipython",
    "version": 3
   },
   "file_extension": ".py",
   "mimetype": "text/x-python",
   "name": "python",
   "nbconvert_exporter": "python",
   "pygments_lexer": "ipython3",
   "version": "3.7.9"
  }
 },
 "nbformat": 4,
 "nbformat_minor": 2
}
